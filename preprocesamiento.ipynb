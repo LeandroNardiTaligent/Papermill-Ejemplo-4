{
 "cells": [
  {
   "cell_type": "code",
   "execution_count": 13,
   "id": "4806c3e4",
   "metadata": {
    "execution": {
     "iopub.execute_input": "2023-03-30T19:01:06.173996Z",
     "iopub.status.busy": "2023-03-30T19:01:06.173996Z",
     "iopub.status.idle": "2023-03-30T19:01:08.086409Z",
     "shell.execute_reply": "2023-03-30T19:01:08.086409Z"
    },
    "papermill": {
     "duration": 1.922284,
     "end_time": "2023-03-30T19:01:08.088425",
     "exception": false,
     "start_time": "2023-03-30T19:01:06.166141",
     "status": "completed"
    },
    "tags": []
   },
   "outputs": [],
   "source": [
    "import pandas as pd\n",
    "import os\n",
    "import seaborn as sns\n",
    "import matplotlib.pyplot as plt\n",
    "from time import time\n",
    "from datetime import datetime\n",
    "from sklearn.preprocessing import StandardScaler"
   ]
  },
  {
   "cell_type": "code",
   "execution_count": 14,
   "id": "08ffa258",
   "metadata": {
    "execution": {
     "iopub.execute_input": "2023-03-30T19:01:08.102696Z",
     "iopub.status.busy": "2023-03-30T19:01:08.102696Z",
     "iopub.status.idle": "2023-03-30T19:01:08.112843Z",
     "shell.execute_reply": "2023-03-30T19:01:08.111839Z"
    },
    "papermill": {
     "duration": 0.024418,
     "end_time": "2023-03-30T19:01:08.112843",
     "exception": false,
     "start_time": "2023-03-30T19:01:08.088425",
     "status": "completed"
    },
    "tags": []
   },
   "outputs": [
    {
     "name": "stdout",
     "output_type": "stream",
     "text": [
      "[2023-04-02 23:17:25] Comienzo del preprocesamiento de datos\n"
     ]
    }
   ],
   "source": [
    "tiempo_inicio = time()\n",
    "today = f'[{datetime.today().strftime(\"%Y-%m-%d %H:%M:%S\")}]'\n",
    "print(f'{today} Comienzo del preprocesamiento de datos')"
   ]
  },
  {
   "cell_type": "code",
   "execution_count": 15,
   "id": "e70fe90c",
   "metadata": {
    "execution": {
     "iopub.execute_input": "2023-03-30T19:01:08.121056Z",
     "iopub.status.busy": "2023-03-30T19:01:08.121056Z",
     "iopub.status.idle": "2023-03-30T19:01:08.128835Z",
     "shell.execute_reply": "2023-03-30T19:01:08.128835Z"
    },
    "papermill": {
     "duration": 0.010793,
     "end_time": "2023-03-30T19:01:08.128835",
     "exception": false,
     "start_time": "2023-03-30T19:01:08.118042",
     "status": "completed"
    },
    "tags": []
   },
   "outputs": [],
   "source": [
    "# Variables Globales\n",
    "PATH = os.getcwd()\n",
    "AUX_FOLDER = 'aux_file'\n",
    "INPUT_FILENAME = 'dataset_validado.xlsx'\n",
    "OUTPUT_FILENAME = 'dataset_modelo.xlsx'"
   ]
  },
  {
   "cell_type": "code",
   "execution_count": 16,
   "id": "7bcff4b0",
   "metadata": {
    "execution": {
     "iopub.execute_input": "2023-03-30T19:01:08.136857Z",
     "iopub.status.busy": "2023-03-30T19:01:08.136857Z",
     "iopub.status.idle": "2023-03-30T19:01:08.510318Z",
     "shell.execute_reply": "2023-03-30T19:01:08.510318Z"
    },
    "papermill": {
     "duration": 0.381483,
     "end_time": "2023-03-30T19:01:08.510318",
     "exception": false,
     "start_time": "2023-03-30T19:01:08.128835",
     "status": "completed"
    },
    "tags": []
   },
   "outputs": [],
   "source": [
    "# Cargo los datos\n",
    "df = pd.read_excel(os.path.join(PATH, AUX_FOLDER, INPUT_FILENAME))"
   ]
  },
  {
   "cell_type": "code",
   "execution_count": 17,
   "id": "2d819ce6",
   "metadata": {
    "execution": {
     "iopub.execute_input": "2023-03-30T19:01:08.520693Z",
     "iopub.status.busy": "2023-03-30T19:01:08.520693Z",
     "iopub.status.idle": "2023-03-30T19:01:08.538928Z",
     "shell.execute_reply": "2023-03-30T19:01:08.538928Z"
    },
    "papermill": {
     "duration": 0.024614,
     "end_time": "2023-03-30T19:01:08.541946",
     "exception": false,
     "start_time": "2023-03-30T19:01:08.517332",
     "status": "completed"
    },
    "tags": []
   },
   "outputs": [
    {
     "data": {
      "text/html": [
       "<div>\n",
       "<style scoped>\n",
       "    .dataframe tbody tr th:only-of-type {\n",
       "        vertical-align: middle;\n",
       "    }\n",
       "\n",
       "    .dataframe tbody tr th {\n",
       "        vertical-align: top;\n",
       "    }\n",
       "\n",
       "    .dataframe thead th {\n",
       "        text-align: right;\n",
       "    }\n",
       "</style>\n",
       "<table border=\"1\" class=\"dataframe\">\n",
       "  <thead>\n",
       "    <tr style=\"text-align: right;\">\n",
       "      <th></th>\n",
       "      <th>Fecha</th>\n",
       "      <th>Area</th>\n",
       "      <th>Habitaciones</th>\n",
       "      <th>Antiguedad</th>\n",
       "      <th>Precio</th>\n",
       "    </tr>\n",
       "  </thead>\n",
       "  <tbody>\n",
       "    <tr>\n",
       "      <th>0</th>\n",
       "      <td>2014-10-14</td>\n",
       "      <td>176</td>\n",
       "      <td>2</td>\n",
       "      <td>94</td>\n",
       "      <td>369559.122287</td>\n",
       "    </tr>\n",
       "    <tr>\n",
       "      <th>1</th>\n",
       "      <td>2012-09-14</td>\n",
       "      <td>192</td>\n",
       "      <td>4</td>\n",
       "      <td>75</td>\n",
       "      <td>488538.922599</td>\n",
       "    </tr>\n",
       "    <tr>\n",
       "      <th>2</th>\n",
       "      <td>2017-10-05</td>\n",
       "      <td>172</td>\n",
       "      <td>3</td>\n",
       "      <td>85</td>\n",
       "      <td>386920.699242</td>\n",
       "    </tr>\n",
       "    <tr>\n",
       "      <th>3</th>\n",
       "      <td>2019-07-13</td>\n",
       "      <td>111</td>\n",
       "      <td>5</td>\n",
       "      <td>33</td>\n",
       "      <td>338081.475487</td>\n",
       "    </tr>\n",
       "    <tr>\n",
       "      <th>4</th>\n",
       "      <td>2008-08-24</td>\n",
       "      <td>106</td>\n",
       "      <td>1</td>\n",
       "      <td>23</td>\n",
       "      <td>285037.573300</td>\n",
       "    </tr>\n",
       "  </tbody>\n",
       "</table>\n",
       "</div>"
      ],
      "text/plain": [
       "       Fecha  Area  Habitaciones  Antiguedad         Precio\n",
       "0 2014-10-14   176             2          94  369559.122287\n",
       "1 2012-09-14   192             4          75  488538.922599\n",
       "2 2017-10-05   172             3          85  386920.699242\n",
       "3 2019-07-13   111             5          33  338081.475487\n",
       "4 2008-08-24   106             1          23  285037.573300"
      ]
     },
     "execution_count": 17,
     "metadata": {},
     "output_type": "execute_result"
    }
   ],
   "source": [
    "df.head()"
   ]
  },
  {
   "cell_type": "code",
   "execution_count": 18,
   "id": "25f67279",
   "metadata": {
    "execution": {
     "iopub.execute_input": "2023-03-30T19:01:08.549979Z",
     "iopub.status.busy": "2023-03-30T19:01:08.549979Z",
     "iopub.status.idle": "2023-03-30T19:01:08.811602Z",
     "shell.execute_reply": "2023-03-30T19:01:08.811602Z"
    },
    "papermill": {
     "duration": 0.269656,
     "end_time": "2023-03-30T19:01:08.811602",
     "exception": false,
     "start_time": "2023-03-30T19:01:08.541946",
     "status": "completed"
    },
    "tags": []
   },
   "outputs": [
    {
     "data": {
      "image/png": "[encoded data removed]",
      "text/plain": [
       "<Figure size 1000x800 with 2 Axes>"
      ]
     },
     "metadata": {},
     "output_type": "display_data"
    }
   ],
   "source": [
    "# Calcular la matriz de correlación\n",
    "corr_matrix = df.drop('Fecha', axis=1).corr()\n",
    "\n",
    "# Crear el gráfico de correlación tipo heatmap\n",
    "plt.figure(figsize=(10, 8))\n",
    "sns.heatmap(corr_matrix, annot=True, cmap='coolwarm', vmin=-1, vmax=1)\n",
    "\n",
    "# Configurar el título y mostrar el gráfico\n",
    "plt.title('Correlación de variables')\n",
    "plt.show()"
   ]
  },
  {
   "cell_type": "code",
   "execution_count": 19,
   "id": "9b96b4fc",
   "metadata": {
    "execution": {
     "iopub.execute_input": "2023-03-30T19:01:08.823118Z",
     "iopub.status.busy": "2023-03-30T19:01:08.823118Z",
     "iopub.status.idle": "2023-03-30T19:01:08.842377Z",
     "shell.execute_reply": "2023-03-30T19:01:08.842377Z"
    },
    "papermill": {
     "duration": 0.027268,
     "end_time": "2023-03-30T19:01:08.842377",
     "exception": false,
     "start_time": "2023-03-30T19:01:08.815109",
     "status": "completed"
    },
    "tags": []
   },
   "outputs": [],
   "source": [
    "# Preprocesamiento\n",
    "df['Fecha'] = pd.to_datetime(df['Fecha'])\n",
    "df['Año'] = df['Fecha'].dt.year\n",
    "df['Mes'] = df['Fecha'].dt.month\n",
    "df['Dia'] = df['Fecha'].dt.day\n",
    "df.drop('Fecha', axis=1, inplace=True)\n",
    "\n",
    "scaler = StandardScaler()\n",
    "scaled_data = scaler.fit_transform(df[['Area', 'Habitaciones', 'Antiguedad']])\n",
    "df_scaled = pd.DataFrame(scaled_data, columns=['Area', 'Habitaciones', 'Antiguedad'])\n",
    "df[['Area', 'Habitaciones', 'Antiguedad']] = df_scaled"
   ]
  },
  {
   "cell_type": "code",
   "execution_count": 20,
   "id": "26ef372e",
   "metadata": {
    "execution": {
     "iopub.execute_input": "2023-03-30T19:01:08.856936Z",
     "iopub.status.busy": "2023-03-30T19:01:08.856936Z",
     "iopub.status.idle": "2023-03-30T19:01:08.866367Z",
     "shell.execute_reply": "2023-03-30T19:01:08.866367Z"
    },
    "papermill": {
     "duration": 0.018966,
     "end_time": "2023-03-30T19:01:08.866367",
     "exception": false,
     "start_time": "2023-03-30T19:01:08.847401",
     "status": "completed"
    },
    "tags": []
   },
   "outputs": [
    {
     "data": {
      "text/html": [
       "<div>\n",
       "<style scoped>\n",
       "    .dataframe tbody tr th:only-of-type {\n",
       "        vertical-align: middle;\n",
       "    }\n",
       "\n",
       "    .dataframe tbody tr th {\n",
       "        vertical-align: top;\n",
       "    }\n",
       "\n",
       "    .dataframe thead th {\n",
       "        text-align: right;\n",
       "    }\n",
       "</style>\n",
       "<table border=\"1\" class=\"dataframe\">\n",
       "  <thead>\n",
       "    <tr style=\"text-align: right;\">\n",
       "      <th></th>\n",
       "      <th>Area</th>\n",
       "      <th>Habitaciones</th>\n",
       "      <th>Antiguedad</th>\n",
       "      <th>Precio</th>\n",
       "      <th>Año</th>\n",
       "      <th>Mes</th>\n",
       "      <th>Dia</th>\n",
       "    </tr>\n",
       "  </thead>\n",
       "  <tbody>\n",
       "    <tr>\n",
       "      <th>0</th>\n",
       "      <td>1.078642</td>\n",
       "      <td>-0.661614</td>\n",
       "      <td>1.602203</td>\n",
       "      <td>369559.122287</td>\n",
       "      <td>2014</td>\n",
       "      <td>10</td>\n",
       "      <td>14</td>\n",
       "    </tr>\n",
       "    <tr>\n",
       "      <th>1</th>\n",
       "      <td>1.442142</td>\n",
       "      <td>0.776677</td>\n",
       "      <td>0.917070</td>\n",
       "      <td>488538.922599</td>\n",
       "      <td>2012</td>\n",
       "      <td>9</td>\n",
       "      <td>14</td>\n",
       "    </tr>\n",
       "    <tr>\n",
       "      <th>2</th>\n",
       "      <td>0.987767</td>\n",
       "      <td>0.057532</td>\n",
       "      <td>1.277666</td>\n",
       "      <td>386920.699242</td>\n",
       "      <td>2017</td>\n",
       "      <td>10</td>\n",
       "      <td>5</td>\n",
       "    </tr>\n",
       "    <tr>\n",
       "      <th>3</th>\n",
       "      <td>-0.398078</td>\n",
       "      <td>1.495822</td>\n",
       "      <td>-0.597437</td>\n",
       "      <td>338081.475487</td>\n",
       "      <td>2019</td>\n",
       "      <td>7</td>\n",
       "      <td>13</td>\n",
       "    </tr>\n",
       "    <tr>\n",
       "      <th>4</th>\n",
       "      <td>-0.511672</td>\n",
       "      <td>-1.380759</td>\n",
       "      <td>-0.958033</td>\n",
       "      <td>285037.573300</td>\n",
       "      <td>2008</td>\n",
       "      <td>8</td>\n",
       "      <td>24</td>\n",
       "    </tr>\n",
       "  </tbody>\n",
       "</table>\n",
       "</div>"
      ],
      "text/plain": [
       "       Area  Habitaciones  Antiguedad         Precio   Año  Mes  Dia\n",
       "0  1.078642     -0.661614    1.602203  369559.122287  2014   10   14\n",
       "1  1.442142      0.776677    0.917070  488538.922599  2012    9   14\n",
       "2  0.987767      0.057532    1.277666  386920.699242  2017   10    5\n",
       "3 -0.398078      1.495822   -0.597437  338081.475487  2019    7   13\n",
       "4 -0.511672     -1.380759   -0.958033  285037.573300  2008    8   24"
      ]
     },
     "execution_count": 20,
     "metadata": {},
     "output_type": "execute_result"
    }
   ],
   "source": [
    "df.head()"
   ]
  },
  {
   "cell_type": "code",
   "execution_count": 21,
   "id": "a1626afa",
   "metadata": {
    "execution": {
     "iopub.execute_input": "2023-03-30T19:01:08.872602Z",
     "iopub.status.busy": "2023-03-30T19:01:08.872602Z",
     "iopub.status.idle": "2023-03-30T19:01:08.883115Z",
     "shell.execute_reply": "2023-03-30T19:01:08.883115Z"
    },
    "papermill": {
     "duration": 0.010513,
     "end_time": "2023-03-30T19:01:08.883115",
     "exception": false,
     "start_time": "2023-03-30T19:01:08.872602",
     "status": "completed"
    },
    "tags": []
   },
   "outputs": [],
   "source": [
    "media = scaler.mean_\n",
    "desv_estandar = scaler.scale_\n",
    "df_scaler = pd.DataFrame({'Media':media, 'STD': desv_estandar})"
   ]
  },
  {
   "cell_type": "code",
   "execution_count": 22,
   "id": "9e57e741",
   "metadata": {
    "execution": {
     "iopub.execute_input": "2023-03-30T19:01:08.896638Z",
     "iopub.status.busy": "2023-03-30T19:01:08.896638Z",
     "iopub.status.idle": "2023-03-30T19:01:09.085897Z",
     "shell.execute_reply": "2023-03-30T19:01:09.085897Z"
    },
    "papermill": {
     "duration": 0.197271,
     "end_time": "2023-03-30T19:01:09.085897",
     "exception": false,
     "start_time": "2023-03-30T19:01:08.888626",
     "status": "completed"
    },
    "tags": []
   },
   "outputs": [
    {
     "name": "stdout",
     "output_type": "stream",
     "text": [
      "[2023-04-02 23:17:25] El tiempo transcurrido de ejecucion fue: 00h 00m 01s\n"
     ]
    }
   ],
   "source": [
    "df.to_excel(os.path.join(PATH, AUX_FOLDER, OUTPUT_FILENAME), index=False)\n",
    "df_scaler.to_excel(os.path.join(PATH, AUX_FOLDER, 'scaler.xlsx'), index=False)\n",
    "tiempo_fin = time()\n",
    "duracion = tiempo_fin - tiempo_inicio\n",
    "horas, remainder = divmod(int(duracion), 3600)\n",
    "minutos, segundos = divmod(remainder, 60)\n",
    "print(f'{today} El tiempo transcurrido de ejecucion fue: {horas:02d}h {minutos:02d}m {segundos:02d}s')"
   ]
  }
 ],
 "metadata": {
  "kernelspec": {
   "display_name": "venv",
   "language": "python",
   "name": "python3"
  },
  "language_info": {
   "codemirror_mode": {
    "name": "ipython",
    "version": 3
   },
   "file_extension": ".py",
   "mimetype": "text/x-python",
   "name": "python",
   "nbconvert_exporter": "python",
   "pygments_lexer": "ipython3",
   "version": "3.11.2"
  },
  "papermill": {
   "default_parameters": {},
   "duration": 8.118535,
   "end_time": "2023-03-30T19:01:12.448924",
   "environment_variables": {},
   "exception": null,
   "input_path": "preprocesamiento.ipynb",
   "output_path": "preprocesamiento.ipynb",
   "parameters": {},
   "start_time": "2023-03-30T19:01:04.330389",
   "version": "2.4.0"
  }
 },
 "nbformat": 4,
 "nbformat_minor": 5
}
