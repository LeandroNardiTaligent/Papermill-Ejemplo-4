{
 "cells": [
  {
   "cell_type": "code",
   "execution_count": 1,
   "id": "4806c3e4",
   "metadata": {
    "execution": {
     "iopub.execute_input": "2023-03-30T19:01:06.173996Z",
     "iopub.status.busy": "2023-03-30T19:01:06.173996Z",
     "iopub.status.idle": "2023-03-30T19:01:08.086409Z",
     "shell.execute_reply": "2023-03-30T19:01:08.086409Z"
    },
    "papermill": {
     "duration": 1.922284,
     "end_time": "2023-03-30T19:01:08.088425",
     "exception": false,
     "start_time": "2023-03-30T19:01:06.166141",
     "status": "completed"
    },
    "tags": []
   },
   "outputs": [],
   "source": [
    "import pandas as pd\n",
    "import os\n",
    "import seaborn as sns\n",
    "import matplotlib.pyplot as plt\n",
    "from time import time\n",
    "from datetime import datetime\n",
    "from sklearn.preprocessing import StandardScaler"
   ]
  },
  {
   "cell_type": "code",
   "execution_count": 2,
   "id": "08ffa258",
   "metadata": {
    "execution": {
     "iopub.execute_input": "2023-03-30T19:01:08.102696Z",
     "iopub.status.busy": "2023-03-30T19:01:08.102696Z",
     "iopub.status.idle": "2023-03-30T19:01:08.112843Z",
     "shell.execute_reply": "2023-03-30T19:01:08.111839Z"
    },
    "papermill": {
     "duration": 0.024418,
     "end_time": "2023-03-30T19:01:08.112843",
     "exception": false,
     "start_time": "2023-03-30T19:01:08.088425",
     "status": "completed"
    },
    "tags": []
   },
   "outputs": [
    {
     "name": "stdout",
     "output_type": "stream",
     "text": [
      "[2023-03-30 16:01:08] Comienzo del preprocesamiento de datos\n"
     ]
    }
   ],
   "source": [
    "tiempo_inicio = time()\n",
    "today = f'[{datetime.today().strftime(\"%Y-%m-%d %H:%M:%S\")}]'\n",
    "print(f'{today} Comienzo del preprocesamiento de datos')"
   ]
  },
  {
   "cell_type": "code",
   "execution_count": 3,
   "id": "e70fe90c",
   "metadata": {
    "execution": {
     "iopub.execute_input": "2023-03-30T19:01:08.121056Z",
     "iopub.status.busy": "2023-03-30T19:01:08.121056Z",
     "iopub.status.idle": "2023-03-30T19:01:08.128835Z",
     "shell.execute_reply": "2023-03-30T19:01:08.128835Z"
    },
    "papermill": {
     "duration": 0.010793,
     "end_time": "2023-03-30T19:01:08.128835",
     "exception": false,
     "start_time": "2023-03-30T19:01:08.118042",
     "status": "completed"
    },
    "tags": []
   },
   "outputs": [],
   "source": [
    "# Variables Globales\n",
    "PATH = os.getcwd()\n",
    "AUX_FOLDER = 'aux_file'\n",
    "INPUT_FILENAME = 'dataset_validado.xlsx'\n",
    "OUTPUT_FILENAME = 'dataset_modelo.xlsx'"
   ]
  },
  {
   "cell_type": "code",
   "execution_count": 4,
   "id": "7bcff4b0",
   "metadata": {
    "execution": {
     "iopub.execute_input": "2023-03-30T19:01:08.136857Z",
     "iopub.status.busy": "2023-03-30T19:01:08.136857Z",
     "iopub.status.idle": "2023-03-30T19:01:08.510318Z",
     "shell.execute_reply": "2023-03-30T19:01:08.510318Z"
    },
    "papermill": {
     "duration": 0.381483,
     "end_time": "2023-03-30T19:01:08.510318",
     "exception": false,
     "start_time": "2023-03-30T19:01:08.128835",
     "status": "completed"
    },
    "tags": []
   },
   "outputs": [],
   "source": [
    "# Cargo los datos\n",
    "df = pd.read_excel(os.path.join(PATH, AUX_FOLDER, INPUT_FILENAME))"
   ]
  },
  {
   "cell_type": "code",
   "execution_count": 5,
   "id": "2d819ce6",
   "metadata": {
    "execution": {
     "iopub.execute_input": "2023-03-30T19:01:08.520693Z",
     "iopub.status.busy": "2023-03-30T19:01:08.520693Z",
     "iopub.status.idle": "2023-03-30T19:01:08.538928Z",
     "shell.execute_reply": "2023-03-30T19:01:08.538928Z"
    },
    "papermill": {
     "duration": 0.024614,
     "end_time": "2023-03-30T19:01:08.541946",
     "exception": false,
     "start_time": "2023-03-30T19:01:08.517332",
     "status": "completed"
    },
    "tags": []
   },
   "outputs": [
    {
     "data": {
      "text/html": [
       "<div>\n",
       "<style scoped>\n",
       "    .dataframe tbody tr th:only-of-type {\n",
       "        vertical-align: middle;\n",
       "    }\n",
       "\n",
       "    .dataframe tbody tr th {\n",
       "        vertical-align: top;\n",
       "    }\n",
       "\n",
       "    .dataframe thead th {\n",
       "        text-align: right;\n",
       "    }\n",
       "</style>\n",
       "<table border=\"1\" class=\"dataframe\">\n",
       "  <thead>\n",
       "    <tr style=\"text-align: right;\">\n",
       "      <th></th>\n",
       "      <th>Fecha</th>\n",
       "      <th>Area</th>\n",
       "      <th>Habitaciones</th>\n",
       "      <th>Antiguedad</th>\n",
       "      <th>Precio</th>\n",
       "    </tr>\n",
       "  </thead>\n",
       "  <tbody>\n",
       "    <tr>\n",
       "      <th>0</th>\n",
       "      <td>2003-08-13</td>\n",
       "      <td>182</td>\n",
       "      <td>1</td>\n",
       "      <td>67</td>\n",
       "      <td>425540.007714</td>\n",
       "    </tr>\n",
       "    <tr>\n",
       "      <th>1</th>\n",
       "      <td>2008-08-16</td>\n",
       "      <td>98</td>\n",
       "      <td>1</td>\n",
       "      <td>45</td>\n",
       "      <td>221783.700891</td>\n",
       "    </tr>\n",
       "    <tr>\n",
       "      <th>2</th>\n",
       "      <td>2017-01-30</td>\n",
       "      <td>134</td>\n",
       "      <td>3</td>\n",
       "      <td>6</td>\n",
       "      <td>443427.777911</td>\n",
       "    </tr>\n",
       "    <tr>\n",
       "      <th>3</th>\n",
       "      <td>2007-09-24</td>\n",
       "      <td>179</td>\n",
       "      <td>3</td>\n",
       "      <td>55</td>\n",
       "      <td>469706.327130</td>\n",
       "    </tr>\n",
       "    <tr>\n",
       "      <th>4</th>\n",
       "      <td>2010-10-06</td>\n",
       "      <td>54</td>\n",
       "      <td>2</td>\n",
       "      <td>69</td>\n",
       "      <td>56313.569319</td>\n",
       "    </tr>\n",
       "  </tbody>\n",
       "</table>\n",
       "</div>"
      ],
      "text/plain": [
       "       Fecha  Area  Habitaciones  Antiguedad         Precio\n",
       "0 2003-08-13   182             1          67  425540.007714\n",
       "1 2008-08-16    98             1          45  221783.700891\n",
       "2 2017-01-30   134             3           6  443427.777911\n",
       "3 2007-09-24   179             3          55  469706.327130\n",
       "4 2010-10-06    54             2          69   56313.569319"
      ]
     },
     "execution_count": 5,
     "metadata": {},
     "output_type": "execute_result"
    }
   ],
   "source": [
    "df.head()"
   ]
  },
  {
   "cell_type": "code",
   "execution_count": 6,
   "id": "25f67279",
   "metadata": {
    "execution": {
     "iopub.execute_input": "2023-03-30T19:01:08.549979Z",
     "iopub.status.busy": "2023-03-30T19:01:08.549979Z",
     "iopub.status.idle": "2023-03-30T19:01:08.811602Z",
     "shell.execute_reply": "2023-03-30T19:01:08.811602Z"
    },
    "papermill": {
     "duration": 0.269656,
     "end_time": "2023-03-30T19:01:08.811602",
     "exception": false,
     "start_time": "2023-03-30T19:01:08.541946",
     "status": "completed"
    },
    "tags": []
   },
   "outputs": [
    {
     "data": {
      "image/png": "[encoded data removed]",
      "text/plain": [
       "<Figure size 1000x800 with 2 Axes>"
      ]
     },
     "metadata": {},
     "output_type": "display_data"
    }
   ],
   "source": [
    "# Calcular la matriz de correlación\n",
    "corr_matrix = df.drop('Fecha', axis=1).corr()\n",
    "\n",
    "# Crear el gráfico de correlación tipo heatmap\n",
    "plt.figure(figsize=(10, 8))\n",
    "sns.heatmap(corr_matrix, annot=True, cmap='coolwarm', vmin=-1, vmax=1)\n",
    "\n",
    "# Configurar el título y mostrar el gráfico\n",
    "plt.title('Correlación de variables')\n",
    "plt.show()"
   ]
  },
  {
   "cell_type": "code",
   "execution_count": 7,
   "id": "9b96b4fc",
   "metadata": {
    "execution": {
     "iopub.execute_input": "2023-03-30T19:01:08.823118Z",
     "iopub.status.busy": "2023-03-30T19:01:08.823118Z",
     "iopub.status.idle": "2023-03-30T19:01:08.842377Z",
     "shell.execute_reply": "2023-03-30T19:01:08.842377Z"
    },
    "papermill": {
     "duration": 0.027268,
     "end_time": "2023-03-30T19:01:08.842377",
     "exception": false,
     "start_time": "2023-03-30T19:01:08.815109",
     "status": "completed"
    },
    "tags": []
   },
   "outputs": [],
   "source": [
    "# Preprocesamiento\n",
    "df['Fecha'] = pd.to_datetime(df['Fecha'])\n",
    "df['Año'] = df['Fecha'].dt.year\n",
    "df['Mes'] = df['Fecha'].dt.month\n",
    "df['Dia'] = df['Fecha'].dt.day\n",
    "df.drop('Fecha', axis=1, inplace=True)\n",
    "\n",
    "scaler = StandardScaler()\n",
    "scaled_data = scaler.fit_transform(df[['Area', 'Habitaciones', 'Antiguedad']])\n",
    "df_scaled = pd.DataFrame(scaled_data, columns=['Area', 'Habitaciones', 'Antiguedad'])\n",
    "df[['Area', 'Habitaciones', 'Antiguedad']] = df_scaled"
   ]
  },
  {
   "cell_type": "code",
   "execution_count": 8,
   "id": "26ef372e",
   "metadata": {
    "execution": {
     "iopub.execute_input": "2023-03-30T19:01:08.856936Z",
     "iopub.status.busy": "2023-03-30T19:01:08.856936Z",
     "iopub.status.idle": "2023-03-30T19:01:08.866367Z",
     "shell.execute_reply": "2023-03-30T19:01:08.866367Z"
    },
    "papermill": {
     "duration": 0.018966,
     "end_time": "2023-03-30T19:01:08.866367",
     "exception": false,
     "start_time": "2023-03-30T19:01:08.847401",
     "status": "completed"
    },
    "tags": []
   },
   "outputs": [
    {
     "data": {
      "text/html": [
       "<div>\n",
       "<style scoped>\n",
       "    .dataframe tbody tr th:only-of-type {\n",
       "        vertical-align: middle;\n",
       "    }\n",
       "\n",
       "    .dataframe tbody tr th {\n",
       "        vertical-align: top;\n",
       "    }\n",
       "\n",
       "    .dataframe thead th {\n",
       "        text-align: right;\n",
       "    }\n",
       "</style>\n",
       "<table border=\"1\" class=\"dataframe\">\n",
       "  <thead>\n",
       "    <tr style=\"text-align: right;\">\n",
       "      <th></th>\n",
       "      <th>Area</th>\n",
       "      <th>Habitaciones</th>\n",
       "      <th>Antiguedad</th>\n",
       "      <th>Precio</th>\n",
       "      <th>Año</th>\n",
       "      <th>Mes</th>\n",
       "      <th>Dia</th>\n",
       "    </tr>\n",
       "  </thead>\n",
       "  <tbody>\n",
       "    <tr>\n",
       "      <th>0</th>\n",
       "      <td>1.279597</td>\n",
       "      <td>-1.456839</td>\n",
       "      <td>0.591377</td>\n",
       "      <td>425540.007714</td>\n",
       "      <td>2003</td>\n",
       "      <td>8</td>\n",
       "      <td>13</td>\n",
       "    </tr>\n",
       "    <tr>\n",
       "      <th>1</th>\n",
       "      <td>-0.701423</td>\n",
       "      <td>-1.456839</td>\n",
       "      <td>-0.181206</td>\n",
       "      <td>221783.700891</td>\n",
       "      <td>2008</td>\n",
       "      <td>8</td>\n",
       "      <td>16</td>\n",
       "    </tr>\n",
       "    <tr>\n",
       "      <th>2</th>\n",
       "      <td>0.147586</td>\n",
       "      <td>-0.050624</td>\n",
       "      <td>-1.550784</td>\n",
       "      <td>443427.777911</td>\n",
       "      <td>2017</td>\n",
       "      <td>1</td>\n",
       "      <td>30</td>\n",
       "    </tr>\n",
       "    <tr>\n",
       "      <th>3</th>\n",
       "      <td>1.208847</td>\n",
       "      <td>-0.050624</td>\n",
       "      <td>0.169968</td>\n",
       "      <td>469706.327130</td>\n",
       "      <td>2007</td>\n",
       "      <td>9</td>\n",
       "      <td>24</td>\n",
       "    </tr>\n",
       "    <tr>\n",
       "      <th>4</th>\n",
       "      <td>-1.739100</td>\n",
       "      <td>-0.753731</td>\n",
       "      <td>0.661611</td>\n",
       "      <td>56313.569319</td>\n",
       "      <td>2010</td>\n",
       "      <td>10</td>\n",
       "      <td>6</td>\n",
       "    </tr>\n",
       "  </tbody>\n",
       "</table>\n",
       "</div>"
      ],
      "text/plain": [
       "       Area  Habitaciones  Antiguedad         Precio   Año  Mes  Dia\n",
       "0  1.279597     -1.456839    0.591377  425540.007714  2003    8   13\n",
       "1 -0.701423     -1.456839   -0.181206  221783.700891  2008    8   16\n",
       "2  0.147586     -0.050624   -1.550784  443427.777911  2017    1   30\n",
       "3  1.208847     -0.050624    0.169968  469706.327130  2007    9   24\n",
       "4 -1.739100     -0.753731    0.661611   56313.569319  2010   10    6"
      ]
     },
     "execution_count": 8,
     "metadata": {},
     "output_type": "execute_result"
    }
   ],
   "source": [
    "df.head()"
   ]
  },
  {
   "cell_type": "code",
   "execution_count": 9,
   "id": "a1626afa",
   "metadata": {
    "execution": {
     "iopub.execute_input": "2023-03-30T19:01:08.872602Z",
     "iopub.status.busy": "2023-03-30T19:01:08.872602Z",
     "iopub.status.idle": "2023-03-30T19:01:08.883115Z",
     "shell.execute_reply": "2023-03-30T19:01:08.883115Z"
    },
    "papermill": {
     "duration": 0.010513,
     "end_time": "2023-03-30T19:01:08.883115",
     "exception": false,
     "start_time": "2023-03-30T19:01:08.872602",
     "status": "completed"
    },
    "tags": []
   },
   "outputs": [],
   "source": [
    "media = scaler.mean_\n",
    "desv_estandar = scaler.scale_\n",
    "df_scaler = pd.DataFrame({'Media':media, 'STD': desv_estandar})"
   ]
  },
  {
   "cell_type": "code",
   "execution_count": 10,
   "id": "9e57e741",
   "metadata": {
    "execution": {
     "iopub.execute_input": "2023-03-30T19:01:08.896638Z",
     "iopub.status.busy": "2023-03-30T19:01:08.896638Z",
     "iopub.status.idle": "2023-03-30T19:01:09.085897Z",
     "shell.execute_reply": "2023-03-30T19:01:09.085897Z"
    },
    "papermill": {
     "duration": 0.197271,
     "end_time": "2023-03-30T19:01:09.085897",
     "exception": false,
     "start_time": "2023-03-30T19:01:08.888626",
     "status": "completed"
    },
    "tags": []
   },
   "outputs": [
    {
     "name": "stdout",
     "output_type": "stream",
     "text": [
      "[2023-03-30 16:01:08] El tiempo transcurrido de ejecucion fue: 00h 00m 00s\n"
     ]
    }
   ],
   "source": [
    "df.to_excel(os.path.join(PATH, AUX_FOLDER, OUTPUT_FILENAME), index=False)\n",
    "df_scaler.to_excel(os.path.join(PATH, AUX_FOLDER, 'scaler.xlsx'), index=False)\n",
    "tiempo_fin = time()\n",
    "duracion = tiempo_fin - tiempo_inicio\n",
    "horas, remainder = divmod(int(duracion), 3600)\n",
    "minutos, segundos = divmod(remainder, 60)\n",
    "print(f'{today} El tiempo transcurrido de ejecucion fue: {horas:02d}h {minutos:02d}m {segundos:02d}s')"
   ]
  }
 ],
 "metadata": {
  "kernelspec": {
   "display_name": "venv",
   "language": "python",
   "name": "python3"
  },
  "language_info": {
   "codemirror_mode": {
    "name": "ipython",
    "version": 3
   },
   "file_extension": ".py",
   "mimetype": "text/x-python",
   "name": "python",
   "nbconvert_exporter": "python",
   "pygments_lexer": "ipython3",
   "version": "3.11.2"
  },
  "papermill": {
   "default_parameters": {},
   "duration": 8.118535,
   "end_time": "2023-03-30T19:01:12.448924",
   "environment_variables": {},
   "exception": null,
   "input_path": "preprocesamiento.ipynb",
   "output_path": "preprocesamiento.ipynb",
   "parameters": {},
   "start_time": "2023-03-30T19:01:04.330389",
   "version": "2.4.0"
  }
 },
 "nbformat": 4,
 "nbformat_minor": 5
}