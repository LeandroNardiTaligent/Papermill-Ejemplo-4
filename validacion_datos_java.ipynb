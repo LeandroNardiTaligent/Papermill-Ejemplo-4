{
 "cells": [
  {
   "cell_type": "code",
   "execution_count": 1,
   "metadata": {
    "vscode": {
     "languageId": "java"
    }
   },
   "outputs": [],
   "source": [
    "%%loadFromPOM\n",
    "<dependency>\n",
    "    <groupId>org.apache.poi</groupId>\n",
    "    <artifactId>poi-ooxml</artifactId>\n",
    "    <version>5.1.0</version>\n",
    "</dependency>"
   ]
  },
  {
   "cell_type": "code",
   "execution_count": 2,
   "metadata": {
    "vscode": {
     "languageId": "java"
    }
   },
   "outputs": [],
   "source": [
    "import java.io.File;\n",
    "import java.io.IOException;\n",
    "import java.time.LocalDateTime;\n",
    "import java.time.LocalDate;\n",
    "import java.time.Duration;\n",
    "import java.time.format.DateTimeFormatter;\n",
    "import java.time.ZoneId;\n",
    "\n",
    "import org.apache.poi.ss.usermodel.*;\n",
    "import org.apache.poi.xssf.usermodel.*;\n"
   ]
  },
  {
   "cell_type": "code",
   "execution_count": 3,
   "metadata": {
    "vscode": {
     "languageId": "java"
    }
   },
   "outputs": [
    {
     "name": "stdout",
     "output_type": "stream",
     "text": [
      "[2023-04-02 23:10:38] Comienzo de la validación de datos\n"
     ]
    },
    {
     "name": "stderr",
     "output_type": "stream",
     "text": [
      "ERROR StatusLogger Log4j2 could not find a logging implementation. Please add log4j-core to the classpath. Using SimpleLogger to log to the console...\n"
     ]
    },
    {
     "name": "stdout",
     "output_type": "stream",
     "text": [
      "[2023-04-02 23:10:39] El archivo se cargó exitosamente\n",
      "[2023-04-02 23:10:39] El archivo fue validado existosamente\n",
      "[2023-04-02 23:10:39] El tiempo transcurrido de ejecución fue: 00h 00m 01s\n"
     ]
    }
   ],
   "source": [
    "LocalDateTime tiempoInicio = LocalDateTime.now();\n",
    "DateTimeFormatter formatter = DateTimeFormatter.ofPattern(\"yyyy-MM-dd HH:mm:ss\");\n",
    "System.out.println(\"[\" + tiempoInicio.format(formatter) + \"] Comienzo de la validación de datos\");\n",
    "\n",
    "// Variables globales\n",
    "String PATH = System.getProperty(\"user.dir\");\n",
    "String INPUT_FOLDER = \"input\";\n",
    "String AUX_FOLDER = \"aux_file\";\n",
    "String INPUT_FILENAME = \"dataset.xlsx\";\n",
    "String OUTPUT_FILENAME = \"dataset_validado.xlsx\";\n",
    "boolean ERROR = false;\n",
    "\n",
    "// Si no está la carpeta aux_file, la creo\n",
    "File auxFolder = new File(PATH + \"/\" + AUX_FOLDER);\n",
    "if (!auxFolder.exists()) {\n",
    "    auxFolder.mkdir();\n",
    "}\n",
    "\n",
    "// Cargo los datos\n",
    "try {\n",
    "    FileInputStream file = new FileInputStream(new File(PATH + \"/\" + INPUT_FOLDER + \"/\" + INPUT_FILENAME));\n",
    "    XSSFWorkbook workbook = new XSSFWorkbook(file);\n",
    "    XSSFSheet sheet = workbook.getSheetAt(0);\n",
    "\n",
    "    System.out.println(\"[\" + LocalDateTime.now().format(formatter) + \"] El archivo se cargó exitosamente\");\n",
    "    \n",
    "\n",
    "    // Validación del campo Fecha\n",
    "    DateTimeFormatter dateFormatterInput = DateTimeFormatter.ofPattern(\"dd-MMM-yyyy\", Locale.ENGLISH);\n",
    "    DateTimeFormatter dateFormatterOutput = DateTimeFormatter.ofPattern(\"yyyy-MM-dd\");\n",
    "    for (Row row : sheet) {\n",
    "        if (row.getRowNum() == 0) {\n",
    "            continue; // Saltear la primera fila de encabezado\n",
    "        }\n",
    "        Cell fechaCell = row.getCell(0);\n",
    "        if (fechaCell.getCellType() == CellType.NUMERIC) {\n",
    "            LocalDate fecha = DateUtil.getJavaDate(fechaCell.getNumericCellValue()).toInstant().atZone(ZoneId.systemDefault()).toLocalDate();\n",
    "            fechaCell.setCellValue(fecha.format(dateFormatterInput)); // Formateo la fecha para asegurarme de que tenga el formato correcto\n",
    "        } else if (fechaCell.getCellType() == CellType.STRING) {\n",
    "            try {\n",
    "                LocalDate fecha = LocalDate.parse(fechaCell.getStringCellValue(), dateFormatterInput);\n",
    "                fechaCell.setCellValue(fecha.format(dateFormatterInput)); // Formateo la fecha para asegurarme de que tenga el formato correcto\n",
    "            } catch (Exception e) {\n",
    "                System.out.println(\"[\" + LocalDateTime.now().format(formatter) + \"] El campo Fecha no se encuentra cargado correctamente\");\n",
    "                ERROR = true;\n",
    "                break;\n",
    "            }\n",
    "        }\n",
    "    }\n",
    "    if (!ERROR) {\n",
    "        FileOutputStream outputStream = new FileOutputStream(PATH + \"/\" + AUX_FOLDER + \"/\" + OUTPUT_FILENAME);\n",
    "        workbook.write(outputStream);\n",
    "        outputStream.close();\n",
    "        System.out.println(\"[\" + LocalDateTime.now().format(formatter) + \"] El archivo fue validado existosamente\");\n",
    "\n",
    "        LocalDateTime tiempoFin = LocalDateTime.now();\n",
    "        Duration duracion = Duration.between(tiempoInicio, tiempoFin);\n",
    "        long horas = duracion.toHours();\n",
    "        duracion = duracion.minusHours(horas);\n",
    "        long minutos = duracion.toMinutes();\n",
    "        duracion = duracion.minusMinutes(minutos);\n",
    "        long segundos = duracion.getSeconds();\n",
    "        System.out.printf(\"[%s] El tiempo transcurrido de ejecución fue: %02dh %02dm %02ds\\n\", LocalDateTime.now().format(formatter), horas, minutos, segundos);\n",
    "    }\n",
    "    workbook.close();\n",
    "} catch (IOException e) {\n",
    "    System.out.println(\"[\" + LocalDateTime.now().format(formatter) + \"] Se produjo un error en la carga de archivo: \" + e.getMessage());\n",
    "    ERROR = true;\n",
    "}\n",
    "\n",
    "if (ERROR) {\n",
    "    System.exit(0);\n",
    "}"
   ]
  }
 ],
 "metadata": {
  "kernelspec": {
   "display_name": "Java",
   "language": "java",
   "name": "java"
  },
  "language_info": {
   "codemirror_mode": "java",
   "file_extension": ".jshell",
   "mimetype": "text/x-java-source",
   "name": "Java",
   "pygments_lexer": "java",
   "version": "19.0.2+7-44"
  },
  "orig_nbformat": 4
 },
 "nbformat": 4,
 "nbformat_minor": 2
}
