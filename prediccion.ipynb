{
 "cells": [
  {
   "cell_type": "code",
   "execution_count": 1,
   "id": "c236dec7",
   "metadata": {
    "execution": {
     "iopub.execute_input": "2023-03-30T19:01:19.984955Z",
     "iopub.status.busy": "2023-03-30T19:01:19.984955Z",
     "iopub.status.idle": "2023-03-30T19:01:21.465086Z",
     "shell.execute_reply": "2023-03-30T19:01:21.463553Z"
    },
    "papermill": {
     "duration": 1.480294,
     "end_time": "2023-03-30T19:01:21.465249",
     "exception": false,
     "start_time": "2023-03-30T19:01:19.984955",
     "status": "completed"
    },
    "tags": []
   },
   "outputs": [],
   "source": [
    "import numpy as np\n",
    "import pandas as pd\n",
    "import os\n",
    "from sklearn.preprocessing import StandardScaler\n",
    "import joblib\n",
    "from time import time\n",
    "from datetime import datetime"
   ]
  },
  {
   "cell_type": "code",
   "execution_count": 2,
   "id": "2296275e",
   "metadata": {
    "execution": {
     "iopub.execute_input": "2023-03-30T19:01:21.475915Z",
     "iopub.status.busy": "2023-03-30T19:01:21.475915Z",
     "iopub.status.idle": "2023-03-30T19:01:21.486816Z",
     "shell.execute_reply": "2023-03-30T19:01:21.486816Z"
    },
    "papermill": {
     "duration": 0.021795,
     "end_time": "2023-03-30T19:01:21.489837",
     "exception": false,
     "start_time": "2023-03-30T19:01:21.468042",
     "status": "completed"
    },
    "tags": []
   },
   "outputs": [
    {
     "name": "stdout",
     "output_type": "stream",
     "text": [
      "[2023-03-30 16:01:21] Comienzo de la predicción\n"
     ]
    }
   ],
   "source": [
    "tiempo_inicio = time()\n",
    "today = f'[{datetime.today().strftime(\"%Y-%m-%d %H:%M:%S\")}]'\n",
    "print(f'{today} Comienzo de la predicción')"
   ]
  },
  {
   "cell_type": "code",
   "execution_count": 3,
   "id": "b969d2e7",
   "metadata": {
    "execution": {
     "iopub.execute_input": "2023-03-30T19:01:21.498327Z",
     "iopub.status.busy": "2023-03-30T19:01:21.498327Z",
     "iopub.status.idle": "2023-03-30T19:01:21.505563Z",
     "shell.execute_reply": "2023-03-30T19:01:21.505563Z"
    },
    "papermill": {
     "duration": 0.01673,
     "end_time": "2023-03-30T19:01:21.506567",
     "exception": false,
     "start_time": "2023-03-30T19:01:21.489837",
     "status": "completed"
    },
    "tags": []
   },
   "outputs": [],
   "source": [
    "# Variables Globales\n",
    "PATH = os.getcwd()\n",
    "AUX_FOLDER = 'aux_file'\n",
    "OUTPUT = 'output'\n",
    "MODEL_PARAMETERS = 'model_weights.pkl'\n",
    "OUTPUT_FILENAME = 'predictions.xlsx'"
   ]
  },
  {
   "cell_type": "code",
   "execution_count": 4,
   "id": "c69b8277",
   "metadata": {
    "execution": {
     "iopub.execute_input": "2023-03-30T19:01:21.514577Z",
     "iopub.status.busy": "2023-03-30T19:01:21.514577Z",
     "iopub.status.idle": "2023-03-30T19:01:21.519813Z",
     "shell.execute_reply": "2023-03-30T19:01:21.519813Z"
    },
    "papermill": {
     "duration": 0.016316,
     "end_time": "2023-03-30T19:01:21.522883",
     "exception": false,
     "start_time": "2023-03-30T19:01:21.506567",
     "status": "completed"
    },
    "tags": []
   },
   "outputs": [],
   "source": [
    "# Si no esta la carpeta aux_file, la creo\n",
    "if not os.path.exists(os.path.join(PATH, OUTPUT)):\n",
    "    os.mkdir(OUTPUT)"
   ]
  },
  {
   "cell_type": "code",
   "execution_count": 5,
   "id": "d5c3cc54",
   "metadata": {
    "execution": {
     "iopub.execute_input": "2023-03-30T19:01:21.522883Z",
     "iopub.status.busy": "2023-03-30T19:01:21.522883Z",
     "iopub.status.idle": "2023-03-30T19:01:21.534913Z",
     "shell.execute_reply": "2023-03-30T19:01:21.533591Z"
    },
    "papermill": {
     "duration": 0.01203,
     "end_time": "2023-03-30T19:01:21.534913",
     "exception": false,
     "start_time": "2023-03-30T19:01:21.522883",
     "status": "completed"
    },
    "tags": []
   },
   "outputs": [],
   "source": [
    "new_data = {\n",
    "    'Fecha': ['2021-01-01', '2021-02-01', '2021-03-01', '2021-04-01', '2021-05-01'],\n",
    "    'Area': [100, 200, 150, 120, 180],\n",
    "    'Habitaciones': [2, 3, 4, 3, 4],\n",
    "    'Antiguedad': [10, 20, 30, 40, 50],\n",
    "}\n",
    "\n",
    "new_df = pd.DataFrame(new_data)"
   ]
  },
  {
   "cell_type": "code",
   "execution_count": 6,
   "id": "65db6d8d",
   "metadata": {
    "execution": {
     "iopub.execute_input": "2023-03-30T19:01:21.538930Z",
     "iopub.status.busy": "2023-03-30T19:01:21.538930Z",
     "iopub.status.idle": "2023-03-30T19:01:21.548269Z",
     "shell.execute_reply": "2023-03-30T19:01:21.548269Z"
    },
    "papermill": {
     "duration": 0.009339,
     "end_time": "2023-03-30T19:01:21.548269",
     "exception": false,
     "start_time": "2023-03-30T19:01:21.538930",
     "status": "completed"
    },
    "tags": [
     "parameters"
    ]
   },
   "outputs": [],
   "source": [
    "media = 0\n",
    "desv_estandar = 1"
   ]
  },
  {
   "cell_type": "code",
   "execution_count": 7,
   "id": "134706c0",
   "metadata": {
    "execution": {
     "iopub.execute_input": "2023-03-30T19:01:21.555282Z",
     "iopub.status.busy": "2023-03-30T19:01:21.555282Z",
     "iopub.status.idle": "2023-03-30T19:01:21.563553Z",
     "shell.execute_reply": "2023-03-30T19:01:21.563553Z"
    },
    "papermill": {
     "duration": 0.008271,
     "end_time": "2023-03-30T19:01:21.563553",
     "exception": false,
     "start_time": "2023-03-30T19:01:21.555282",
     "status": "completed"
    },
    "tags": [
     "injected-parameters"
    ]
   },
   "outputs": [],
   "source": [
    "# Parameters\n",
    "media = [127.742, 3.072, 50.16]\n",
    "desv_estandar = [42.40239894156933, 1.422257360677033, 28.47592667500041]\n"
   ]
  },
  {
   "cell_type": "code",
   "execution_count": 8,
   "id": "9a9332f6",
   "metadata": {
    "execution": {
     "iopub.execute_input": "2023-03-30T19:01:21.576083Z",
     "iopub.status.busy": "2023-03-30T19:01:21.571074Z",
     "iopub.status.idle": "2023-03-30T19:01:21.660759Z",
     "shell.execute_reply": "2023-03-30T19:01:21.660759Z"
    },
    "papermill": {
     "duration": 0.097206,
     "end_time": "2023-03-30T19:01:21.660759",
     "exception": false,
     "start_time": "2023-03-30T19:01:21.563553",
     "status": "completed"
    },
    "tags": []
   },
   "outputs": [],
   "source": [
    "# Aplicar el mismo preprocesamiento que al dataset original\n",
    "scaled_new_data = (new_df[['Area', 'Habitaciones', 'Antiguedad']] - media) / desv_estandar\n",
    "new_df_scaled = pd.DataFrame(scaled_new_data, columns=['Area', 'Habitaciones', 'Antiguedad'])\n",
    "\n",
    "# Cargar el modelo previously trained desde su archivo \"model_weights.plk\"\n",
    "coeficientes, intercept = joblib.load(os.path.join(PATH, AUX_FOLDER, MODEL_PARAMETERS))\n",
    "\n",
    "# Realizar predicciones con el modelo entrenado\n",
    "predictions =  np.dot(new_df_scaled, coeficientes.reshape(-1,1)) + intercept\n",
    "# Guardar las predicciones en un archivo de Excel\n",
    "predictions_df = pd.DataFrame(predictions, columns=['Predicciones'])\n",
    "predictions_df = pd.concat([new_df, predictions_df], axis=1)\n",
    "predictions_df.to_excel(os.path.join(PATH, OUTPUT, OUTPUT_FILENAME), index=False)"
   ]
  },
  {
   "cell_type": "code",
   "execution_count": 9,
   "id": "0c0e888f",
   "metadata": {
    "execution": {
     "iopub.execute_input": "2023-03-30T19:01:21.667276Z",
     "iopub.status.busy": "2023-03-30T19:01:21.667276Z",
     "iopub.status.idle": "2023-03-30T19:01:21.679863Z",
     "shell.execute_reply": "2023-03-30T19:01:21.679863Z"
    },
    "papermill": {
     "duration": 0.012587,
     "end_time": "2023-03-30T19:01:21.679863",
     "exception": false,
     "start_time": "2023-03-30T19:01:21.667276",
     "status": "completed"
    },
    "tags": []
   },
   "outputs": [
    {
     "name": "stdout",
     "output_type": "stream",
     "text": [
      "[2023-03-30 16:01:21] El tiempo transcurrido de ejecucion fue: 00h 00m 00s\n"
     ]
    }
   ],
   "source": [
    "tiempo_fin = time()\n",
    "duracion = tiempo_fin - tiempo_inicio\n",
    "horas, remainder = divmod(int(duracion), 3600)\n",
    "minutos, segundos = divmod(remainder, 60)\n",
    "print(f'{today} El tiempo transcurrido de ejecucion fue: {horas:02d}h {minutos:02d}m {segundos:02d}s')"
   ]
  },
  {
   "cell_type": "code",
   "execution_count": 10,
   "id": "e467ac8e",
   "metadata": {
    "execution": {
     "iopub.execute_input": "2023-03-30T19:01:21.691469Z",
     "iopub.status.busy": "2023-03-30T19:01:21.691469Z",
     "iopub.status.idle": "2023-03-30T19:01:21.701488Z",
     "shell.execute_reply": "2023-03-30T19:01:21.701488Z"
    },
    "papermill": {
     "duration": 0.018116,
     "end_time": "2023-03-30T19:01:21.701488",
     "exception": false,
     "start_time": "2023-03-30T19:01:21.683372",
     "status": "completed"
    },
    "tags": []
   },
   "outputs": [
    {
     "data": {
      "text/plain": [
       "array([127234.9002189 ,  20903.74332011, -56391.02855076])"
      ]
     },
     "execution_count": 10,
     "metadata": {},
     "output_type": "execute_result"
    }
   ],
   "source": [
    "coeficientes"
   ]
  },
  {
   "cell_type": "code",
   "execution_count": 11,
   "id": "2ae3b1bc",
   "metadata": {
    "execution": {
     "iopub.execute_input": "2023-03-30T19:01:21.707505Z",
     "iopub.status.busy": "2023-03-30T19:01:21.707505Z",
     "iopub.status.idle": "2023-03-30T19:01:21.718250Z",
     "shell.execute_reply": "2023-03-30T19:01:21.718250Z"
    },
    "papermill": {
     "duration": 0.010745,
     "end_time": "2023-03-30T19:01:21.718250",
     "exception": false,
     "start_time": "2023-03-30T19:01:21.707505",
     "status": "completed"
    },
    "tags": []
   },
   "outputs": [
    {
     "data": {
      "text/plain": [
       "328452.2517776206"
      ]
     },
     "execution_count": 11,
     "metadata": {},
     "output_type": "execute_result"
    }
   ],
   "source": [
    "intercept"
   ]
  },
  {
   "cell_type": "code",
   "execution_count": 12,
   "id": "78509fb1",
   "metadata": {
    "execution": {
     "iopub.execute_input": "2023-03-30T19:01:21.735127Z",
     "iopub.status.busy": "2023-03-30T19:01:21.731792Z",
     "iopub.status.idle": "2023-03-30T19:01:21.746976Z",
     "shell.execute_reply": "2023-03-30T19:01:21.746976Z"
    },
    "papermill": {
     "duration": 0.024723,
     "end_time": "2023-03-30T19:01:21.748481",
     "exception": false,
     "start_time": "2023-03-30T19:01:21.723758",
     "status": "completed"
    },
    "tags": []
   },
   "outputs": [
    {
     "data": {
      "text/html": [
       "<div>\n",
       "<style scoped>\n",
       "    .dataframe tbody tr th:only-of-type {\n",
       "        vertical-align: middle;\n",
       "    }\n",
       "\n",
       "    .dataframe tbody tr th {\n",
       "        vertical-align: top;\n",
       "    }\n",
       "\n",
       "    .dataframe thead th {\n",
       "        text-align: right;\n",
       "    }\n",
       "</style>\n",
       "<table border=\"1\" class=\"dataframe\">\n",
       "  <thead>\n",
       "    <tr style=\"text-align: right;\">\n",
       "      <th></th>\n",
       "      <th>Fecha</th>\n",
       "      <th>Area</th>\n",
       "      <th>Habitaciones</th>\n",
       "      <th>Antiguedad</th>\n",
       "      <th>Predicciones</th>\n",
       "    </tr>\n",
       "  </thead>\n",
       "  <tbody>\n",
       "    <tr>\n",
       "      <th>0</th>\n",
       "      <td>2021-01-01</td>\n",
       "      <td>100</td>\n",
       "      <td>2</td>\n",
       "      <td>10</td>\n",
       "      <td>308981.380324</td>\n",
       "    </tr>\n",
       "    <tr>\n",
       "      <th>1</th>\n",
       "      <td>2021-02-01</td>\n",
       "      <td>200</td>\n",
       "      <td>3</td>\n",
       "      <td>20</td>\n",
       "      <td>603941.243202</td>\n",
       "    </tr>\n",
       "    <tr>\n",
       "      <th>2</th>\n",
       "      <td>2021-03-01</td>\n",
       "      <td>150</td>\n",
       "      <td>4</td>\n",
       "      <td>30</td>\n",
       "      <td>448803.104335</td>\n",
       "    </tr>\n",
       "    <tr>\n",
       "      <th>3</th>\n",
       "      <td>2021-04-01</td>\n",
       "      <td>120</td>\n",
       "      <td>3</td>\n",
       "      <td>40</td>\n",
       "      <td>324282.869581</td>\n",
       "    </tr>\n",
       "    <tr>\n",
       "      <th>4</th>\n",
       "      <td>2021-05-01</td>\n",
       "      <td>180</td>\n",
       "      <td>4</td>\n",
       "      <td>50</td>\n",
       "      <td>499216.598660</td>\n",
       "    </tr>\n",
       "  </tbody>\n",
       "</table>\n",
       "</div>"
      ],
      "text/plain": [
       "        Fecha  Area  Habitaciones  Antiguedad   Predicciones\n",
       "0  2021-01-01   100             2          10  308981.380324\n",
       "1  2021-02-01   200             3          20  603941.243202\n",
       "2  2021-03-01   150             4          30  448803.104335\n",
       "3  2021-04-01   120             3          40  324282.869581\n",
       "4  2021-05-01   180             4          50  499216.598660"
      ]
     },
     "execution_count": 12,
     "metadata": {},
     "output_type": "execute_result"
    }
   ],
   "source": [
    "predictions_df"
   ]
  }
 ],
 "metadata": {
  "kernelspec": {
   "display_name": "venv",
   "language": "python",
   "name": "python3"
  },
  "language_info": {
   "codemirror_mode": {
    "name": "ipython",
    "version": 3
   },
   "file_extension": ".py",
   "mimetype": "text/x-python",
   "name": "python",
   "nbconvert_exporter": "python",
   "pygments_lexer": "ipython3",
   "version": "3.11.2"
  },
  "papermill": {
   "default_parameters": {},
   "duration": 7.189031,
   "end_time": "2023-03-30T19:01:24.816545",
   "environment_variables": {},
   "exception": null,
   "input_path": "prediccion.ipynb",
   "output_path": "prediccion.ipynb",
   "parameters": {
    "desv_estandar": [
     42.40239894156933,
     1.422257360677033,
     28.47592667500041
    ],
    "media": [
     127.742,
     3.072,
     50.16
    ]
   },
   "start_time": "2023-03-30T19:01:17.627514",
   "version": "2.4.0"
  }
 },
 "nbformat": 4,
 "nbformat_minor": 5
}