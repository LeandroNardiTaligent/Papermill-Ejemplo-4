{
 "cells": [
  {
   "cell_type": "code",
   "execution_count": 1,
   "metadata": {},
   "outputs": [],
   "source": [
    "using DataFrames, ScikitLearn, XLSX, DelimitedFiles"
   ]
  },
  {
   "cell_type": "code",
   "execution_count": 2,
   "metadata": {},
   "outputs": [
    {
     "data": {
      "text/plain": [
       "\"predictions.xlsx\""
      ]
     },
     "metadata": {},
     "output_type": "display_data"
    }
   ],
   "source": [
    "# Variables Globales\n",
    "const PATH = pwd()\n",
    "const AUX_FOLDER = \"aux_file\"\n",
    "const OUTPUT = \"output\"\n",
    "const MODEL_PARAMETERS = \"model_weights.txt\"\n",
    "const OUTPUT_FILENAME = \"predictions.xlsx\""
   ]
  },
  {
   "cell_type": "code",
   "execution_count": 3,
   "metadata": {},
   "outputs": [],
   "source": [
    "# Si no esta la carpeta output, la creo\n",
    "if !isdir(joinpath(PATH, OUTPUT))\n",
    "    mkdir(joinpath(PATH, OUTPUT))\n",
    "end"
   ]
  },
  {
   "cell_type": "code",
   "execution_count": 4,
   "metadata": {},
   "outputs": [
    {
     "data": {
      "text/html": [
       "<div><div style = \"float: left;\"><span>5×4 DataFrame</span></div><div style = \"clear: both;\"></div></div><div class = \"data-frame\" style = \"overflow-x: scroll;\"><table class = \"data-frame\" style = \"margin-bottom: 6px;\"><thead><tr class = \"header\"><th class = \"rowNumber\" style = \"font-weight: bold; text-align: right;\">Row</th><th style = \"text-align: left;\">Antiguedad</th><th style = \"text-align: left;\">Area</th><th style = \"text-align: left;\">Fecha</th><th style = \"text-align: left;\">Habitaciones</th></tr><tr class = \"subheader headerLastRow\"><th class = \"rowNumber\" style = \"font-weight: bold; text-align: right;\"></th><th title = \"Int64\" style = \"text-align: left;\">Int64</th><th title = \"Int64\" style = \"text-align: left;\">Int64</th><th title = \"String\" style = \"text-align: left;\">String</th><th title = \"Int64\" style = \"text-align: left;\">Int64</th></tr></thead><tbody><tr><td class = \"rowNumber\" style = \"font-weight: bold; text-align: right;\">1</td><td style = \"text-align: right;\">10</td><td style = \"text-align: right;\">100</td><td style = \"text-align: left;\">2021-01-01</td><td style = \"text-align: right;\">2</td></tr><tr><td class = \"rowNumber\" style = \"font-weight: bold; text-align: right;\">2</td><td style = \"text-align: right;\">20</td><td style = \"text-align: right;\">200</td><td style = \"text-align: left;\">2021-02-01</td><td style = \"text-align: right;\">3</td></tr><tr><td class = \"rowNumber\" style = \"font-weight: bold; text-align: right;\">3</td><td style = \"text-align: right;\">30</td><td style = \"text-align: right;\">150</td><td style = \"text-align: left;\">2021-03-01</td><td style = \"text-align: right;\">4</td></tr><tr><td class = \"rowNumber\" style = \"font-weight: bold; text-align: right;\">4</td><td style = \"text-align: right;\">40</td><td style = \"text-align: right;\">120</td><td style = \"text-align: left;\">2021-04-01</td><td style = \"text-align: right;\">3</td></tr><tr><td class = \"rowNumber\" style = \"font-weight: bold; text-align: right;\">5</td><td style = \"text-align: right;\">50</td><td style = \"text-align: right;\">180</td><td style = \"text-align: left;\">2021-05-01</td><td style = \"text-align: right;\">4</td></tr></tbody></table></div>"
      ],
      "text/latex": [
       "\\begin{tabular}{r|cccc}\n",
       "\t& Antiguedad & Area & Fecha & Habitaciones\\\\\n",
       "\t\\hline\n",
       "\t& Int64 & Int64 & String & Int64\\\\\n",
       "\t\\hline\n",
       "\t1 & 10 & 100 & 2021-01-01 & 2 \\\\\n",
       "\t2 & 20 & 200 & 2021-02-01 & 3 \\\\\n",
       "\t3 & 30 & 150 & 2021-03-01 & 4 \\\\\n",
       "\t4 & 40 & 120 & 2021-04-01 & 3 \\\\\n",
       "\t5 & 50 & 180 & 2021-05-01 & 4 \\\\\n",
       "\\end{tabular}\n"
      ],
      "text/plain": [
       "\u001b[1m5×4 DataFrame\u001b[0m\n",
       "\u001b[1m Row \u001b[0m│\u001b[1m Antiguedad \u001b[0m\u001b[1m Area  \u001b[0m\u001b[1m Fecha      \u001b[0m\u001b[1m Habitaciones \u001b[0m\n",
       "     │\u001b[90m Int64      \u001b[0m\u001b[90m Int64 \u001b[0m\u001b[90m String     \u001b[0m\u001b[90m Int64        \u001b[0m\n",
       "─────┼─────────────────────────────────────────────\n",
       "   1 │         10    100  2021-01-01             2\n",
       "   2 │         20    200  2021-02-01             3\n",
       "   3 │         30    150  2021-03-01             4\n",
       "   4 │         40    120  2021-04-01             3\n",
       "   5 │         50    180  2021-05-01             4"
      ]
     },
     "metadata": {},
     "output_type": "display_data"
    }
   ],
   "source": [
    "new_data = Dict(\n",
    "    \"Fecha\" => [\"2021-01-01\", \"2021-02-01\", \"2021-03-01\", \"2021-04-01\", \"2021-05-01\"],\n",
    "    \"Area\" => [100, 200, 150, 120, 180],\n",
    "    \"Habitaciones\" => [2, 3, 4, 3, 4],\n",
    "    \"Antiguedad\" => [10, 20, 30, 40, 50]\n",
    ")\n",
    "new_df = DataFrame(new_data)"
   ]
  },
  {
   "cell_type": "code",
   "execution_count": 5,
   "metadata": {
    "tags": [
     "parameters"
    ]
   },
   "outputs": [
    {
     "data": {
      "text/plain": [
       "3-element Vector{Int64}:\n",
       " 1\n",
       " 2\n",
       " 3"
      ]
     },
     "metadata": {},
     "output_type": "display_data"
    }
   ],
   "source": [
    "media = [1, 2, 3]\n",
    "desv_estandar = [1, 2, 3]"
   ]
  },
  {
   "cell_type": "code",
   "execution_count": 7,
   "metadata": {},
   "outputs": [
    {
     "data": {
      "text/html": [
       "<div><div style = \"float: left;\"><span>5×3 DataFrame</span></div><div style = \"clear: both;\"></div></div><div class = \"data-frame\" style = \"overflow-x: scroll;\"><table class = \"data-frame\" style = \"margin-bottom: 6px;\"><thead><tr class = \"header\"><th class = \"rowNumber\" style = \"font-weight: bold; text-align: right;\">Row</th><th style = \"text-align: left;\">Area</th><th style = \"text-align: left;\">Habitaciones</th><th style = \"text-align: left;\">Antiguedad</th></tr><tr class = \"subheader headerLastRow\"><th class = \"rowNumber\" style = \"font-weight: bold; text-align: right;\"></th><th title = \"Float64\" style = \"text-align: left;\">Float64</th><th title = \"Float64\" style = \"text-align: left;\">Float64</th><th title = \"Float64\" style = \"text-align: left;\">Float64</th></tr></thead><tbody><tr><td class = \"rowNumber\" style = \"font-weight: bold; text-align: right;\">1</td><td style = \"text-align: right;\">99.0</td><td style = \"text-align: right;\">0.0</td><td style = \"text-align: right;\">2.33333</td></tr><tr><td class = \"rowNumber\" style = \"font-weight: bold; text-align: right;\">2</td><td style = \"text-align: right;\">199.0</td><td style = \"text-align: right;\">0.5</td><td style = \"text-align: right;\">5.66667</td></tr><tr><td class = \"rowNumber\" style = \"font-weight: bold; text-align: right;\">3</td><td style = \"text-align: right;\">149.0</td><td style = \"text-align: right;\">1.0</td><td style = \"text-align: right;\">9.0</td></tr><tr><td class = \"rowNumber\" style = \"font-weight: bold; text-align: right;\">4</td><td style = \"text-align: right;\">119.0</td><td style = \"text-align: right;\">0.5</td><td style = \"text-align: right;\">12.3333</td></tr><tr><td class = \"rowNumber\" style = \"font-weight: bold; text-align: right;\">5</td><td style = \"text-align: right;\">179.0</td><td style = \"text-align: right;\">1.0</td><td style = \"text-align: right;\">15.6667</td></tr></tbody></table></div>"
      ],
      "text/latex": [
       "\\begin{tabular}{r|ccc}\n",
       "\t& Area & Habitaciones & Antiguedad\\\\\n",
       "\t\\hline\n",
       "\t& Float64 & Float64 & Float64\\\\\n",
       "\t\\hline\n",
       "\t1 & 99.0 & 0.0 & 2.33333 \\\\\n",
       "\t2 & 199.0 & 0.5 & 5.66667 \\\\\n",
       "\t3 & 149.0 & 1.0 & 9.0 \\\\\n",
       "\t4 & 119.0 & 0.5 & 12.3333 \\\\\n",
       "\t5 & 179.0 & 1.0 & 15.6667 \\\\\n",
       "\\end{tabular}\n"
      ],
      "text/plain": [
       "\u001b[1m5×3 DataFrame\u001b[0m\n",
       "\u001b[1m Row \u001b[0m│\u001b[1m Area    \u001b[0m\u001b[1m Habitaciones \u001b[0m\u001b[1m Antiguedad \u001b[0m\n",
       "     │\u001b[90m Float64 \u001b[0m\u001b[90m Float64      \u001b[0m\u001b[90m Float64    \u001b[0m\n",
       "─────┼───────────────────────────────────\n",
       "   1 │    99.0           0.0     2.33333\n",
       "   2 │   199.0           0.5     5.66667\n",
       "   3 │   149.0           1.0     9.0\n",
       "   4 │   119.0           0.5    12.3333\n",
       "   5 │   179.0           1.0    15.6667"
      ]
     },
     "metadata": {},
     "output_type": "display_data"
    }
   ],
   "source": [
    "# Aplicar el mismo preprocesamiento que al dataset original\n",
    "new_df_scaled = (new_df[:, [:Area, :Habitaciones, :Antiguedad]] .- media') ./ desv_estandar'"
   ]
  },
  {
   "cell_type": "code",
   "execution_count": 7,
   "metadata": {},
   "outputs": [
    {
     "data": {
      "text/plain": [
       "330337.0937274716"
      ]
     },
     "metadata": {},
     "output_type": "display_data"
    }
   ],
   "source": [
    "# Ruta al archivo .txt\n",
    "file_path = joinpath(PATH, AUX_FOLDER, MODEL_PARAMETERS)\n",
    "\n",
    "# Cargar los coeficientes e intercept desde el archivo de texto\n",
    "data = readdlm(file_path)\n",
    "coeficientes = data[1:end-1]\n",
    "intercept = data[end]"
   ]
  },
  {
   "cell_type": "code",
   "execution_count": 8,
   "metadata": {},
   "outputs": [
    {
     "data": {
      "text/plain": [
       "5-element Vector{Float64}:\n",
       " 1.2990844688599003e7\n",
       " 2.563020837762223e7\n",
       " 1.851210111051968e7\n",
       " 1.3986035492537292e7\n",
       " 2.135674025992698e7"
      ]
     },
     "metadata": {},
     "output_type": "display_data"
    }
   ],
   "source": [
    "# Convertir el DataFrame en una matriz\n",
    "m = Matrix(new_df_scaled)\n",
    "\n",
    "# Realizar predicciones con el modelo entrenado\n",
    "predictions = m * coeficientes .+ intercept"
   ]
  },
  {
   "cell_type": "code",
   "execution_count": 9,
   "metadata": {},
   "outputs": [
    {
     "data": {
      "text/plain": [
       "5-element Vector{Float64}:\n",
       " 1.2990844688599003e7\n",
       " 2.563020837762223e7\n",
       " 1.851210111051968e7\n",
       " 1.3986035492537292e7\n",
       " 2.135674025992698e7"
      ]
     },
     "metadata": {},
     "output_type": "display_data"
    }
   ],
   "source": [
    "# Agregar la columna de predicciones al DataFrame\n",
    "new_df[!, :Predicciones] = predictions"
   ]
  },
  {
   "cell_type": "code",
   "execution_count": 10,
   "metadata": {},
   "outputs": [],
   "source": [
    "# Guardar las predicciones en un archivo de Excel\n",
    "XLSX.writetable(\n",
    "    joinpath(PATH, OUTPUT, OUTPUT_FILENAME),\n",
    "    new_df,\n",
    "    overwrite = true,\n",
    "    sheetname = \"Sheet1\"\n",
    ")"
   ]
  }
 ],
 "metadata": {
  "kernelspec": {
   "display_name": "Julia 1.8.5",
   "language": "julia",
   "name": "julia-1.8"
  },
  "language_info": {
   "file_extension": ".jl",
   "mimetype": "application/julia",
   "name": "julia",
   "version": "1.8.5"
  },
  "orig_nbformat": 4
 },
 "nbformat": 4,
 "nbformat_minor": 2
}
