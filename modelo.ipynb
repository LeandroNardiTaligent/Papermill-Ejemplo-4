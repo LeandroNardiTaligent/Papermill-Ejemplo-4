{
 "cells": [
  {
   "cell_type": "code",
   "execution_count": 25,
   "id": "f5431186",
   "metadata": {
    "execution": {
     "iopub.execute_input": "2023-03-30T19:01:14.343886Z",
     "iopub.status.busy": "2023-03-30T19:01:14.343886Z",
     "iopub.status.idle": "2023-03-30T19:01:16.019960Z",
     "shell.execute_reply": "2023-03-30T19:01:16.019960Z"
    },
    "papermill": {
     "duration": 1.686704,
     "end_time": "2023-03-30T19:01:16.022595",
     "exception": false,
     "start_time": "2023-03-30T19:01:14.335891",
     "status": "completed"
    },
    "tags": []
   },
   "outputs": [],
   "source": [
    "import pandas as pd\n",
    "import os\n",
    "import numpy as np\n",
    "from sklearn.model_selection import train_test_split\n",
    "from sklearn.linear_model import LinearRegression\n",
    "from sklearn.metrics import mean_squared_error, r2_score\n",
    "from time import time\n",
    "from datetime import datetime"
   ]
  },
  {
   "cell_type": "code",
   "execution_count": 26,
   "id": "18af5e8c",
   "metadata": {
    "execution": {
     "iopub.execute_input": "2023-03-30T19:01:16.079196Z",
     "iopub.status.busy": "2023-03-30T19:01:16.079196Z",
     "iopub.status.idle": "2023-03-30T19:01:16.091217Z",
     "shell.execute_reply": "2023-03-30T19:01:16.091217Z"
    },
    "papermill": {
     "duration": 0.020036,
     "end_time": "2023-03-30T19:01:16.091217",
     "exception": false,
     "start_time": "2023-03-30T19:01:16.071181",
     "status": "completed"
    },
    "tags": []
   },
   "outputs": [
    {
     "name": "stdout",
     "output_type": "stream",
     "text": [
      "[2023-04-03 00:59:49] Comienzo del entrenamiento del modelo\n"
     ]
    }
   ],
   "source": [
    "tiempo_inicio = time()\n",
    "today = f'[{datetime.today().strftime(\"%Y-%m-%d %H:%M:%S\")}]'\n",
    "print(f'{today} Comienzo del entrenamiento del modelo')"
   ]
  },
  {
   "cell_type": "code",
   "execution_count": 27,
   "id": "67c4deaf",
   "metadata": {
    "execution": {
     "iopub.execute_input": "2023-03-30T19:01:16.095745Z",
     "iopub.status.busy": "2023-03-30T19:01:16.095745Z",
     "iopub.status.idle": "2023-03-30T19:01:16.106949Z",
     "shell.execute_reply": "2023-03-30T19:01:16.106949Z"
    },
    "papermill": {
     "duration": 0.011204,
     "end_time": "2023-03-30T19:01:16.106949",
     "exception": false,
     "start_time": "2023-03-30T19:01:16.095745",
     "status": "completed"
    },
    "tags": []
   },
   "outputs": [],
   "source": [
    "# Variables Globales\n",
    "PATH = os.getcwd()\n",
    "AUX_FOLDER = 'aux_file'\n",
    "INPUT_FILENAME = 'dataset_modelo.xlsx'\n",
    "OUTPUT_FILENAME = 'model_weights.txt'"
   ]
  },
  {
   "cell_type": "code",
   "execution_count": 28,
   "id": "466ef269",
   "metadata": {
    "execution": {
     "iopub.execute_input": "2023-03-30T19:01:16.111956Z",
     "iopub.status.busy": "2023-03-30T19:01:16.111956Z",
     "iopub.status.idle": "2023-03-30T19:01:16.448637Z",
     "shell.execute_reply": "2023-03-30T19:01:16.448637Z"
    },
    "papermill": {
     "duration": 0.336681,
     "end_time": "2023-03-30T19:01:16.448637",
     "exception": false,
     "start_time": "2023-03-30T19:01:16.111956",
     "status": "completed"
    },
    "tags": []
   },
   "outputs": [],
   "source": [
    "# Cargo los datos\n",
    "df = pd.read_excel(os.path.join(PATH, AUX_FOLDER, INPUT_FILENAME))"
   ]
  },
  {
   "cell_type": "code",
   "execution_count": 29,
   "id": "033ab767",
   "metadata": {
    "execution": {
     "iopub.execute_input": "2023-03-30T19:01:16.460155Z",
     "iopub.status.busy": "2023-03-30T19:01:16.460155Z",
     "iopub.status.idle": "2023-03-30T19:01:16.474725Z",
     "shell.execute_reply": "2023-03-30T19:01:16.474725Z"
    },
    "papermill": {
     "duration": 0.024092,
     "end_time": "2023-03-30T19:01:16.476233",
     "exception": false,
     "start_time": "2023-03-30T19:01:16.452141",
     "status": "completed"
    },
    "tags": []
   },
   "outputs": [],
   "source": [
    "# Separo lo datos en train y test y variables pedictoras y target\n",
    "X = df.drop(['Precio', 'Año', 'Mes', 'Dia'], axis=1)\n",
    "y = df['Precio']\n",
    "\n",
    "X_train, X_test, y_train, y_test = train_test_split(X, y, test_size=0.2, random_state=42)"
   ]
  },
  {
   "cell_type": "code",
   "execution_count": 30,
   "id": "167cf809",
   "metadata": {
    "execution": {
     "iopub.execute_input": "2023-03-30T19:01:16.484242Z",
     "iopub.status.busy": "2023-03-30T19:01:16.484242Z",
     "iopub.status.idle": "2023-03-30T19:01:16.500674Z",
     "shell.execute_reply": "2023-03-30T19:01:16.500674Z"
    },
    "papermill": {
     "duration": 0.024441,
     "end_time": "2023-03-30T19:01:16.500674",
     "exception": false,
     "start_time": "2023-03-30T19:01:16.476233",
     "status": "completed"
    },
    "tags": []
   },
   "outputs": [
    {
     "data": {
      "text/html": [
       "<style>#sk-container-id-3 {color: black;background-color: white;}#sk-container-id-3 pre{padding: 0;}#sk-container-id-3 div.sk-toggleable {background-color: white;}#sk-container-id-3 label.sk-toggleable__label {cursor: pointer;display: block;width: 100%;margin-bottom: 0;padding: 0.3em;box-sizing: border-box;text-align: center;}#sk-container-id-3 label.sk-toggleable__label-arrow:before {content: \"▸\";float: left;margin-right: 0.25em;color: #696969;}#sk-container-id-3 label.sk-toggleable__label-arrow:hover:before {color: black;}#sk-container-id-3 div.sk-estimator:hover label.sk-toggleable__label-arrow:before {color: black;}#sk-container-id-3 div.sk-toggleable__content {max-height: 0;max-width: 0;overflow: hidden;text-align: left;background-color: #f0f8ff;}#sk-container-id-3 div.sk-toggleable__content pre {margin: 0.2em;color: black;border-radius: 0.25em;background-color: #f0f8ff;}#sk-container-id-3 input.sk-toggleable__control:checked~div.sk-toggleable__content {max-height: 200px;max-width: 100%;overflow: auto;}#sk-container-id-3 input.sk-toggleable__control:checked~label.sk-toggleable__label-arrow:before {content: \"▾\";}#sk-container-id-3 div.sk-estimator input.sk-toggleable__control:checked~label.sk-toggleable__label {background-color: #d4ebff;}#sk-container-id-3 div.sk-label input.sk-toggleable__control:checked~label.sk-toggleable__label {background-color: #d4ebff;}#sk-container-id-3 input.sk-hidden--visually {border: 0;clip: rect(1px 1px 1px 1px);clip: rect(1px, 1px, 1px, 1px);height: 1px;margin: -1px;overflow: hidden;padding: 0;position: absolute;width: 1px;}#sk-container-id-3 div.sk-estimator {font-family: monospace;background-color: #f0f8ff;border: 1px dotted black;border-radius: 0.25em;box-sizing: border-box;margin-bottom: 0.5em;}#sk-container-id-3 div.sk-estimator:hover {background-color: #d4ebff;}#sk-container-id-3 div.sk-parallel-item::after {content: \"\";width: 100%;border-bottom: 1px solid gray;flex-grow: 1;}#sk-container-id-3 div.sk-label:hover label.sk-toggleable__label {background-color: #d4ebff;}#sk-container-id-3 div.sk-serial::before {content: \"\";position: absolute;border-left: 1px solid gray;box-sizing: border-box;top: 0;bottom: 0;left: 50%;z-index: 0;}#sk-container-id-3 div.sk-serial {display: flex;flex-direction: column;align-items: center;background-color: white;padding-right: 0.2em;padding-left: 0.2em;position: relative;}#sk-container-id-3 div.sk-item {position: relative;z-index: 1;}#sk-container-id-3 div.sk-parallel {display: flex;align-items: stretch;justify-content: center;background-color: white;position: relative;}#sk-container-id-3 div.sk-item::before, #sk-container-id-3 div.sk-parallel-item::before {content: \"\";position: absolute;border-left: 1px solid gray;box-sizing: border-box;top: 0;bottom: 0;left: 50%;z-index: -1;}#sk-container-id-3 div.sk-parallel-item {display: flex;flex-direction: column;z-index: 1;position: relative;background-color: white;}#sk-container-id-3 div.sk-parallel-item:first-child::after {align-self: flex-end;width: 50%;}#sk-container-id-3 div.sk-parallel-item:last-child::after {align-self: flex-start;width: 50%;}#sk-container-id-3 div.sk-parallel-item:only-child::after {width: 0;}#sk-container-id-3 div.sk-dashed-wrapped {border: 1px dashed gray;margin: 0 0.4em 0.5em 0.4em;box-sizing: border-box;padding-bottom: 0.4em;background-color: white;}#sk-container-id-3 div.sk-label label {font-family: monospace;font-weight: bold;display: inline-block;line-height: 1.2em;}#sk-container-id-3 div.sk-label-container {text-align: center;}#sk-container-id-3 div.sk-container {/* jupyter's `normalize.less` sets `[hidden] { display: none; }` but bootstrap.min.css set `[hidden] { display: none !important; }` so we also need the `!important` here to be able to override the default hidden behavior on the sphinx rendered scikit-learn.org. See: https://github.com/scikit-learn/scikit-learn/issues/21755 */display: inline-block !important;position: relative;}#sk-container-id-3 div.sk-text-repr-fallback {display: none;}</style><div id=\"sk-container-id-3\" class=\"sk-top-container\"><div class=\"sk-text-repr-fallback\"><pre>LinearRegression()</pre><b>In a Jupyter environment, please rerun this cell to show the HTML representation or trust the notebook. <br />On GitHub, the HTML representation is unable to render, please try loading this page with nbviewer.org.</b></div><div class=\"sk-container\" hidden><div class=\"sk-item\"><div class=\"sk-estimator sk-toggleable\"><input class=\"sk-toggleable__control sk-hidden--visually\" id=\"sk-estimator-id-3\" type=\"checkbox\" checked><label for=\"sk-estimator-id-3\" class=\"sk-toggleable__label sk-toggleable__label-arrow\">LinearRegression</label><div class=\"sk-toggleable__content\"><pre>LinearRegression()</pre></div></div></div></div></div>"
      ],
      "text/plain": [
       "LinearRegression()"
      ]
     },
     "execution_count": 30,
     "metadata": {},
     "output_type": "execute_result"
    }
   ],
   "source": [
    "# Crear y entrenar el modelo de regresión lineal múltiple\n",
    "reg = LinearRegression()\n",
    "reg.fit(X_train, y_train)"
   ]
  },
  {
   "cell_type": "code",
   "execution_count": 31,
   "id": "edb95375",
   "metadata": {
    "execution": {
     "iopub.execute_input": "2023-03-30T19:01:16.508182Z",
     "iopub.status.busy": "2023-03-30T19:01:16.508182Z",
     "iopub.status.idle": "2023-03-30T19:01:16.519033Z",
     "shell.execute_reply": "2023-03-30T19:01:16.519033Z"
    },
    "papermill": {
     "duration": 0.010851,
     "end_time": "2023-03-30T19:01:16.519033",
     "exception": false,
     "start_time": "2023-03-30T19:01:16.508182",
     "status": "completed"
    },
    "tags": []
   },
   "outputs": [],
   "source": [
    "# Realizar predicciones en el conjunto de prueba\n",
    "y_pred = reg.predict(X_test)"
   ]
  },
  {
   "cell_type": "code",
   "execution_count": 32,
   "id": "f7cb2f10",
   "metadata": {
    "execution": {
     "iopub.execute_input": "2023-03-30T19:01:16.525041Z",
     "iopub.status.busy": "2023-03-30T19:01:16.525041Z",
     "iopub.status.idle": "2023-03-30T19:01:16.539929Z",
     "shell.execute_reply": "2023-03-30T19:01:16.539929Z"
    },
    "papermill": {
     "duration": 0.016394,
     "end_time": "2023-03-30T19:01:16.541435",
     "exception": false,
     "start_time": "2023-03-30T19:01:16.525041",
     "status": "completed"
    },
    "tags": []
   },
   "outputs": [
    {
     "name": "stdout",
     "output_type": "stream",
     "text": [
      "[2023-04-03 00:59:49] Los resultados obtenidos son:\n",
      "[2023-04-03 00:59:49] Mean Squared Error: 34553102.116133474\n",
      "[2023-04-03 00:59:49] R-squared: 0.9984420650779654\n"
     ]
    }
   ],
   "source": [
    "# Calcular métricas de evaluación\n",
    "mse = mean_squared_error(y_test, y_pred)\n",
    "r2 = r2_score(y_test, y_pred)\n",
    "\n",
    "today = f'[{datetime.today().strftime(\"%Y-%m-%d %H:%M:%S\")}]'\n",
    "print(f'{today} Los resultados obtenidos son:')\n",
    "print(f\"{today} Mean Squared Error: {mse}\")\n",
    "print(f\"{today} R-squared: {r2}\")"
   ]
  },
  {
   "cell_type": "code",
   "execution_count": 33,
   "id": "86074b8c",
   "metadata": {
    "execution": {
     "iopub.execute_input": "2023-03-30T19:01:16.549444Z",
     "iopub.status.busy": "2023-03-30T19:01:16.549444Z",
     "iopub.status.idle": "2023-03-30T19:01:16.561569Z",
     "shell.execute_reply": "2023-03-30T19:01:16.561569Z"
    },
    "papermill": {
     "duration": 0.024165,
     "end_time": "2023-03-30T19:01:16.565600",
     "exception": false,
     "start_time": "2023-03-30T19:01:16.541435",
     "status": "completed"
    },
    "tags": []
   },
   "outputs": [],
   "source": [
    "# Obtener los coeficientes y la intersección del modelo\n",
    "coefficients = reg.coef_\n",
    "intercept = reg.intercept_\n",
    "\n",
    "# Guarda los coeficientes e intercept en un archivo de texto\n",
    "np.savetxt(os.path.join(PATH, AUX_FOLDER, OUTPUT_FILENAME), np.append(coefficients, intercept))"
   ]
  },
  {
   "cell_type": "code",
   "execution_count": 34,
   "id": "8edfe5b0",
   "metadata": {
    "execution": {
     "iopub.execute_input": "2023-03-30T19:01:16.582058Z",
     "iopub.status.busy": "2023-03-30T19:01:16.582058Z",
     "iopub.status.idle": "2023-03-30T19:01:16.591026Z",
     "shell.execute_reply": "2023-03-30T19:01:16.591026Z"
    },
    "papermill": {
     "duration": 0.016708,
     "end_time": "2023-03-30T19:01:16.591026",
     "exception": false,
     "start_time": "2023-03-30T19:01:16.574318",
     "status": "completed"
    },
    "tags": []
   },
   "outputs": [
    {
     "data": {
      "text/plain": [
       "array([131716.47304084,  21143.9058483 , -55342.75209089])"
      ]
     },
     "execution_count": 34,
     "metadata": {},
     "output_type": "execute_result"
    }
   ],
   "source": [
    "coefficients"
   ]
  },
  {
   "cell_type": "code",
   "execution_count": 35,
   "id": "b5bc0757",
   "metadata": {
    "execution": {
     "iopub.execute_input": "2023-03-30T19:01:16.606551Z",
     "iopub.status.busy": "2023-03-30T19:01:16.606551Z",
     "iopub.status.idle": "2023-03-30T19:01:16.618591Z",
     "shell.execute_reply": "2023-03-30T19:01:16.618591Z"
    },
    "papermill": {
     "duration": 0.024067,
     "end_time": "2023-03-30T19:01:16.622603",
     "exception": false,
     "start_time": "2023-03-30T19:01:16.598536",
     "status": "completed"
    },
    "tags": []
   },
   "outputs": [
    {
     "data": {
      "text/plain": [
       "330337.0937274716"
      ]
     },
     "execution_count": 35,
     "metadata": {},
     "output_type": "execute_result"
    }
   ],
   "source": [
    "intercept"
   ]
  },
  {
   "cell_type": "code",
   "execution_count": 36,
   "id": "1f6c2494",
   "metadata": {
    "execution": {
     "iopub.execute_input": "2023-03-30T19:01:16.630621Z",
     "iopub.status.busy": "2023-03-30T19:01:16.630621Z",
     "iopub.status.idle": "2023-03-30T19:01:16.641149Z",
     "shell.execute_reply": "2023-03-30T19:01:16.641149Z"
    },
    "papermill": {
     "duration": 0.018546,
     "end_time": "2023-03-30T19:01:16.641149",
     "exception": false,
     "start_time": "2023-03-30T19:01:16.622603",
     "status": "completed"
    },
    "tags": []
   },
   "outputs": [
    {
     "name": "stdout",
     "output_type": "stream",
     "text": [
      "[2023-04-03 00:59:49] El tiempo transcurrido de ejecucion fue: 00h 00m 00s\n"
     ]
    }
   ],
   "source": [
    "tiempo_fin = time()\n",
    "duracion = tiempo_fin - tiempo_inicio\n",
    "horas, remainder = divmod(int(duracion), 3600)\n",
    "minutos, segundos = divmod(remainder, 60)\n",
    "print(f'{today} El tiempo transcurrido de ejecucion fue: {horas:02d}h {minutos:02d}m {segundos:02d}s')"
   ]
  }
 ],
 "metadata": {
  "kernelspec": {
   "display_name": "venv",
   "language": "python",
   "name": "python3"
  },
  "language_info": {
   "codemirror_mode": {
    "name": "ipython",
    "version": 3
   },
   "file_extension": ".py",
   "mimetype": "text/x-python",
   "name": "python",
   "nbconvert_exporter": "python",
   "pygments_lexer": "ipython3",
   "version": "3.11.2"
  },
  "papermill": {
   "default_parameters": {},
   "duration": 4.575532,
   "end_time": "2023-03-30T19:01:17.104250",
   "environment_variables": {},
   "exception": null,
   "input_path": "modelo.ipynb",
   "output_path": "modelo.ipynb",
   "parameters": {},
   "start_time": "2023-03-30T19:01:12.528718",
   "version": "2.4.0"
  }
 },
 "nbformat": 4,
 "nbformat_minor": 5
}
